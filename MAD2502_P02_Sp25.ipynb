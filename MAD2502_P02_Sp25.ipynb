{
 "cells": [
  {
   "cell_type": "markdown",
   "id": "5bec01d4",
   "metadata": {},
   "source": [
    "<H3 align = \"right\">Spring 2025 Computer Project 02</H3>\n",
    "\n",
    "## Group Number: 11\n",
    " \n",
    "\n",
    "## Names of Student in Group:\n",
    "- Name: Mayteetad Pukdeetho\n",
    "- Name: `name_2`\n",
    "- Name: Solomiia Ivanovska\n"
   ]
  },
  {
   "cell_type": "code",
   "id": "0515ac07",
   "metadata": {
    "ExecuteTime": {
     "end_time": "2025-03-13T12:45:51.495922Z",
     "start_time": "2025-03-13T12:45:51.492129Z"
    }
   },
   "source": [
    "# You shouldn't need anything beyond these imports.  If you feel you do, talk to me.\n",
    "# You will need to import these inside of the respective py files.\n",
    "import numpy as np\n",
    "import mandelbrot\n"
   ],
   "outputs": [],
   "execution_count": 11
  },
  {
   "metadata": {},
   "cell_type": "markdown",
   "source": [
    "---\n",
    "## General Instructions\n",
    "As in the previous project, you should set up a public GitHub repository for this project.  When you submit your project you will submit an archive (zip) of your repository.  In addition, you should edit this file to include a link to your repository.  The usual guidelines apply.\n",
    "* Use docstrings/in-line comments to explain what the code does.  Please reserve in-line comments for things that are non-obvious.\n",
    "* Use best practices for code style (such as descriptive variable names)\n",
    "* Document any third-party sources used (or risk getting a 0)\n",
    "\n",
    "Link to GitHub repository: https://github.com/MayteePukdeetho/Project2Group11"
   ],
   "id": "dbfaf6faae925058"
  },
  {
   "cell_type": "markdown",
   "id": "cb0bd37d952db253",
   "metadata": {},
   "source": [
    "---  \n",
    "# The Mandelbrot Set\n",
    "All of your code will live in a file `mandelbrot.py` in your GitHub repository.\n",
    "The Mandelbrot set is a famous fractal which lives in the complex plane.  A complex number $c$ is in the Mandelbrot set if and only if the sequence $z_n$ defined below does not tend toward infinity.\n",
    "\n",
    "$\\begin{align*}\n",
    "z_0 &= c \\\\\n",
    "z_1 &= z_0^2+c \\\\\n",
    "z_2 &= z_1^2+c \\\\\n",
    "&\\cdots \\\\\n",
    "z_{n+1} &= z_n^2+c \\\\\n",
    "&\\cdots\n",
    "\\end{align*}$\n",
    "\n",
    "When plotting a complex number $a+bi$ we regard $a$ as the x-coordinate and $b$ as the y-coordinate.\n"
   ]
  },
  {
   "metadata": {},
   "cell_type": "markdown",
   "source": [
    "\n",
    "## Part1: Escape Time (One Complex Number) (5 points)\n",
    "The moment a complex number, say $z_k$ from the above sequence, has a magnitude greater than 2, the sequence is guaranteed to tend toward infinity.  Therefore, the first $k$ for which $|z_k|>2$ is called the *escape time* of $c$. In `mandelbrot.py` implement a function with the following signature:\n",
    "\n",
    "```python\n",
    "def get_escape_time(c: complex, max_iterations: int) -> int | None:\n",
    "    ...\n",
    "```\n",
    "The function will return the number of iterations which pass before $c$ escapes.\n",
    "* If $c$ does not escape in the specified number of iterations, then `None` is returned.\n",
    "* Otherwise, a number in `range(max_iterations)` will be returned which tells how many iterations passed before the point escaped.\n",
    "\n",
    "### Sample Output\n",
    "* `get_escape_time(2+1j, 5)` returns `0`  (This already has magnitude exceeding 2)\n",
    "* `get_escape_time(1+1j, 10)` returns `1`\n",
    "* `get_escape_time(0.5+0.5j, 2)` returns `None`\n",
    "* `get_escape_time(0.5+0.5j, 2)` returns `4`\n",
    "* `get_escape_time(0.38+0.25j, 100)` returns `56`"
   ],
   "id": "a857504a58899e54"
  },
  {
   "metadata": {},
   "cell_type": "markdown",
   "source": "#### Testing Code",
   "id": "fc9c2b63efcaa7f"
  },
  {
   "metadata": {
    "ExecuteTime": {
     "end_time": "2025-03-13T14:25:53.637092Z",
     "start_time": "2025-03-13T14:25:53.631711Z"
    }
   },
   "cell_type": "code",
   "source": [
    "def get_escape_time(c: complex, max_iterations: int) -> int | None:\n",
    "    z = c\n",
    "    if abs(z) > 2:\n",
    "        return 0\n",
    "\n",
    "    for k in range(max_iterations):\n",
    "        z = z ** 2 + c\n",
    "        if abs(z) > 2:\n",
    "            return k + 1\n",
    "    return None\n",
    "print(mandelbrot.get_escape_time(2+1j, 5))\n",
    "print(mandelbrot.get_escape_time(1+1j, 10))\n",
    "print(mandelbrot.get_escape_time(0.5+0.5j, 3))\n",
    "print(mandelbrot.get_escape_time(0.5+0.5j, 4))\n",
    "print(mandelbrot.get_escape_time(0.38+0.25j, 100))"
   ],
   "id": "b15f5985642c1074",
   "outputs": [
    {
     "name": "stdout",
     "output_type": "stream",
     "text": [
      "0\n",
      "1\n",
      "None\n",
      "4\n",
      "56\n"
     ]
    }
   ],
   "execution_count": 66
  },
  {
   "metadata": {},
   "cell_type": "markdown",
   "source": [
    "## Part 2: Defining a Grid (10 points)\n",
    "To draw a simple image of the Mandelbrot set, we need to compute a grid of complex numbers, one for each pixel of our image.  In `mandelbrot.py` write a function called `get_complex_grid` with the signature:\n",
    "\n",
    "```python\n",
    "def get_complex_grid(\n",
    "    top_left: complex,\n",
    "    bottom_right: complex,\n",
    "    step: float\n",
    ") -> np.ndarray:\n",
    "    ...\n",
    "```\n",
    "\n",
    "This function will return an array whose contents will be complex numbers evenly spaced between `top_left` and (but not including) `bottom_right`.\n",
    "* At index `[0, 0]` the value `top_left` will be stored.\n",
    "* Increasing the row by 1 will decrease the imaginary party by `step`.\n",
    "* Increasing the column by 1 will increase the real part by `step`\n",
    "* This is sort of a complex version of `np.arange()`\n",
    "\n",
    "### Implementation Notes\n",
    "* You are not supposed to use loops to implement this, only NumPy array operations.  If you can't figure out how to do it with NumPy operations, some points will be deducted."
   ],
   "id": "4cb53a84cc928dfa"
  },
  {
   "metadata": {},
   "cell_type": "markdown",
   "source": "#### Testing",
   "id": "4cd7080b731a09b7"
  },
  {
   "metadata": {
    "ExecuteTime": {
     "end_time": "2025-03-13T13:55:59.276389Z",
     "start_time": "2025-03-13T13:55:59.268049Z"
    }
   },
   "cell_type": "code",
   "source": [
    "def get_complex_grid(\n",
    "    top_left: complex,\n",
    "    bottom_right: complex,\n",
    "    step: float\n",
    ") -> np.ndarray:\n",
    "    '''\n",
    "    This function will return an array whose contents will be complex numbers evenly spaced between `top_left`\n",
    "     and (but not including) `bottom_right`.\n",
    "     It does this by making a \"real\" grid and a \"complex\" grid using np.arange.\n",
    "     Since we want to increase the real part by a step with every column, we put step in the np.arange\n",
    "     It's vice versa for the \"complex\".\n",
    "     Then, since we want to combine the two, with reals being modified in the columns and complexes being modified in\n",
    "     rows, we combine via the \"+\" operator. We also multiply by the complex part by 1j so they become complex numbers.\n",
    "`'''\n",
    "    real = np.arange(top_left.real, bottom_right.real, step)\n",
    "    complex = np.arange(top_left.imag, bottom_right.imag, -step)\n",
    "    complex_grid = real[None,:] + complex[:,None] * 1j\n",
    "\n",
    "    return complex_grid\n",
    "# The below should print\n",
    "# [[-1.+1.j  0.+1.j  1.+1.j]\n",
    "#  [-1.+0.j  0.+0.j  1.+0.j]\n",
    "#  [-1.-1.j  0.-1.j  1.-1.j]]\n",
    "\n",
    "a = get_complex_grid(-1+1j, 1.1-1.1j, 1)\n",
    "print(a)\n"
   ],
   "id": "5929af7c5adcfc7d",
   "outputs": [
    {
     "name": "stdout",
     "output_type": "stream",
     "text": [
      "[[-1.+1.j  0.+1.j  1.+1.j]\n",
      " [-1.+0.j  0.+0.j  1.+0.j]\n",
      " [-1.-1.j  0.-1.j  1.-1.j]]\n",
      "1j\n"
     ]
    },
    {
     "data": {
      "text/plain": [
       "np.float64(0.0)"
      ]
     },
     "execution_count": 63,
     "metadata": {},
     "output_type": "execute_result"
    }
   ],
   "execution_count": 63
  },
  {
   "metadata": {},
   "cell_type": "markdown",
   "source": [
    "## Escape Time (The Whole Grid) (10 points)\n",
    "In order to actually draw the Mandelbrot set, we need to assign a color to each point (pixel) in our grid.  For our purposes we'll use greyscale with black having a value of 0.0 and white having a value of 1.0.  In `mandelbrot.py` write a function `get_escape_time_color_arr()` with the following signature.\n",
    "\n",
    "```python\n",
    "def get_escape_time_color_arr(\n",
    "    c_arr: np.ndarray,\n",
    "    max_iterations: int\n",
    ") -> np.ndarray:\n",
    "    ...\n",
    "```\n",
    "This function will take an input of an array of $c$-values.  It will return an array of the same shape with color values in $[0,1]$ according to the escape time of each $c$-value.\n",
    "* Points that never escape are colored black (value 0.0),\n",
    "* Points that do escape are colored lighter depending on how fast they escape.  We'll use the formula `(num_iterations-escape_time+1)/(num_iterations+1)`.  Note:\n",
    "    * Points with 0 escape time are colored white (value 1.0)\n",
    "    * Points with `num_iterations` (maximum) escape time are colored with `1/(num_iterations+1)`, which is close to 0.0.\n",
    "    * This means you can treat non-escaping points as though they have escape time `num_iterations+1` if it makes your code simpler.\n",
    "\n",
    "### Implementation Details\n",
    "* You are allowed to loop for the iterations, but the arithmetic and escape checking should be done with NumPy operations.\n",
    "* Your code should not cause warnings from NumPy (e.g. overflow warnings)"
   ],
   "id": "225eb026b74384dd"
  },
  {
   "metadata": {},
   "cell_type": "markdown",
   "source": [
    "### Testing\n",
    "Running the below cell should produce a decent image of the Mandelbrot set."
   ],
   "id": "ce41c29ca6b59edf"
  },
  {
   "metadata": {
    "ExecuteTime": {
     "end_time": "2025-03-13T14:41:51.284049Z",
     "start_time": "2025-03-13T14:41:50.997714Z"
    }
   },
   "cell_type": "code",
   "source": [
    "from matplotlib import pyplot as plt\n",
    "\n",
    "grid = get_complex_grid(-2+1.25j, 0.5-1.25j, 0.01)\n",
    "def get_escape_time_color_arr(\n",
    "    c_arr: np.ndarray,\n",
    "    max_iterations: int\n",
    ") -> np.ndarray:\n",
    "    '''\n",
    "    array of complex numbers to array of colour values (ranging from 0 to 1). with use of iteration through the array and get_escape_time().\n",
    "    :param c_arr:\n",
    "    :param max_iterations:\n",
    "    :return:\n",
    "    '''\n",
    "    returned_arr = np.zeros_like(c_arr, dtype= float)\n",
    "    row_num = -1\n",
    "    for array_row in c_arr:\n",
    "        row_num += 1\n",
    "        column_num = -1\n",
    "        for complex_num in array_row:\n",
    "            column_num += 1\n",
    "            a = get_escape_time(complex_num, max_iterations)\n",
    "            if a == None:\n",
    "                a_value = 0.0\n",
    "            elif a == 0:\n",
    "                a_value = 1.0\n",
    "            elif a == max_iterations:\n",
    "                a_value = 1.0/max_iterations\n",
    "            else:\n",
    "                a_value = (max_iterations-a+1)/(max_iterations+1)\n",
    "            returned_arr[row_num,column_num] = a_value\n",
    "\n",
    "    return returned_arr\n",
    "colors = get_escape_time_color_arr(grid, 30)\n",
    "\n",
    "plt.imshow(colors, cmap=\"Greys\")"
   ],
   "id": "42c3c31a7bc81c56",
   "outputs": [
    {
     "data": {
      "text/plain": [
       "<matplotlib.image.AxesImage at 0x1deacb88a50>"
      ]
     },
     "execution_count": 84,
     "metadata": {},
     "output_type": "execute_result"
    },
    {
     "data": {
      "text/plain": [
       "<Figure size 640x480 with 1 Axes>"
      ],
      "image/png": "[encoded data removed]"
     },
     "metadata": {},
     "output_type": "display_data"
    }
   ],
   "execution_count": 84
  },
  {
   "metadata": {},
   "cell_type": "markdown",
   "source": [
    "## A Julia Set (5 points)\n",
    "Given a complex number $c$, call $P_c$ the complex polynomial $P_c(z) = z^2 + c$.  Given a point $z$ in the complex plane, the *orbit* of $z$ under the polynomial $P_c$ is the sequence of points\n",
    "$$\\begin{align*}\n",
    "z_0 &= z \\\\\n",
    "z_1 &= P_c(z_0) = z_0^2+c \\\\\n",
    "z_2 &= P_c(z_1) = z_1^2+c \\\\\n",
    "&\\cdots\n",
    "\\end{align*}$$\n",
    "\n",
    "The *filled Julia set* of $P_c$ is the set of all points whose orbits do not tend toward infinity.  This definition is very similar to that of the Mandelbrot set.  In fact it's identical except for the starting point $z_0$.  As with the Mandelbrot set, there is an escape criterion.  If any point $z_n$ in the orbit has magnitude greater than $\\max(|c|, 2)$ then the orbit tends to infinity.  An interesting bit of math here is that the filled Julia set will be connected if $c$ is chosen from within the Mandelbrot set and totally disconnected (a Cantor set) otherwise.\n",
    "\n",
    "Write a function which collects escape data for the filled in Julia set for a given complex number $c$ and converts it to a color in the same manner as the previous part. Your code should be very similar to the code used to generate the Mandelbrot set.  Hopefully this will be a victory lap of sorts.\n",
    "\n",
    "### Implementation Details\n",
    "* You are allowed to loop for the iterations, but the arithmetic and escape checking should be done with NumPy operations.\n",
    "* Your code should not cause warnings from NumPy (e.g. overflow warnings)\n",
    "\n"
   ],
   "id": "2780a6cbaee3ce9d"
  },
  {
   "metadata": {},
   "cell_type": "markdown",
   "source": [
    "### Testing\n",
    "Running the below cell should produce a decent image of the Douady Rabbit Julia set (https://en.wikipedia.org/wiki/Douady_rabbit), the Julia set with $c=-0.1226+0.7488i$.  Since this $c$ comes from the Mandelbrot set, the Julia set is connected."
   ],
   "id": "908ab203d70a7980"
  },
  {
   "metadata": {},
   "cell_type": "code",
   "source": [
    "import mandelbrot\n",
    "from matplotlib import pyplot as plt\n",
    "\n",
    "rabbit_c = -0.1226 + 0.7499j\n",
    "grid = mandelbrot.get_complex_grid(-1.5+1.25j, 1.5-1.25j, 0.01)\n",
    "colors = mandelbrot.get_julia_color_arr(grid, rabbit_c, 30)\n",
    "\n",
    "plt.imshow(colors, cmap=\"Greys\")"
   ],
   "id": "268f9f6b37f62f61",
   "outputs": [],
   "execution_count": null
  }
 ],
 "metadata": {
  "kernelspec": {
   "display_name": "Python 3 (ipykernel)",
   "language": "python",
   "name": "python3"
  },
  "language_info": {
   "codemirror_mode": {
    "name": "ipython",
    "version": 3
   },
   "file_extension": ".py",
   "mimetype": "text/x-python",
   "name": "python",
   "nbconvert_exporter": "python",
   "pygments_lexer": "ipython3",
   "version": "3.12.3"
  }
 },
 "nbformat": 4,
 "nbformat_minor": 5
}
